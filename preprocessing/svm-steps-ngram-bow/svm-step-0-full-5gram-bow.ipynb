{
 "cells": [
  {
   "cell_type": "code",
   "execution_count": 1,
   "metadata": {},
   "outputs": [],
   "source": [
    "#import sys\n",
    "#!{sys.executable} -m pip install nltk\n",
    "#!{sys.executable} -m pip install yellowbrick"
   ]
  },
  {
   "cell_type": "code",
   "execution_count": 2,
   "metadata": {
    "pycharm": {
     "name": "#%%\n"
    }
   },
   "outputs": [],
   "source": [
    "import numpy as np  # linear algebra\n",
    "import pandas as pd  # data processing, CSV file I/O (e.g. pd.read_csv)\n",
    "import re\n",
    "\n",
    "import sklearn\n",
    "from sklearn.base import BaseEstimator, ClassifierMixin\n",
    "from sklearn.utils import shuffle\n",
    "from sklearn.model_selection import train_test_split, cross_val_score\n",
    "from sklearn.metrics import f1_score, classification_report, confusion_matrix, ConfusionMatrixDisplay\n",
    "from sklearn.feature_extraction.text import CountVectorizer, TfidfVectorizer\n",
    "from sklearn.pipeline import Pipeline\n",
    "from sklearn.linear_model import LogisticRegression\n",
    "from sklearn.naive_bayes import MultinomialNB\n",
    "\n",
    "# scipy sparse matrix\n",
    "import scipy\n",
    "from scipy.sparse import hstack\n",
    "\n",
    "import matplotlib.pyplot as plt\n",
    "\n",
    "from string import digits\n",
    "\n",
    "import os"
   ]
  },
  {
   "cell_type": "markdown",
   "metadata": {
    "pycharm": {
     "name": "#%% md\n"
    }
   },
   "source": [
    "## Skip Data Preprocessing & Data Cleaning"
   ]
  },
  {
   "cell_type": "code",
   "execution_count": 3,
   "metadata": {
    "pycharm": {
     "name": "#%%\n"
    }
   },
   "outputs": [],
   "source": [
    "df = pd.read_csv('../../URL_Classification.csv', header=None)\n",
    "df.columns = [\"index\", \"url\", \"label\"]\n",
    "\n",
    "num_samples = len(df)\n",
    "df = df[0:num_samples]"
   ]
  },
  {
   "cell_type": "code",
   "execution_count": 4,
   "metadata": {
    "pycharm": {
     "name": "#%%\n"
    },
    "scrolled": true
   },
   "outputs": [
    {
     "data": {
      "text/html": [
       "<div>\n",
       "<style scoped>\n",
       "    .dataframe tbody tr th:only-of-type {\n",
       "        vertical-align: middle;\n",
       "    }\n",
       "\n",
       "    .dataframe tbody tr th {\n",
       "        vertical-align: top;\n",
       "    }\n",
       "\n",
       "    .dataframe thead th {\n",
       "        text-align: right;\n",
       "    }\n",
       "</style>\n",
       "<table border=\"1\" class=\"dataframe\">\n",
       "  <thead>\n",
       "    <tr style=\"text-align: right;\">\n",
       "      <th></th>\n",
       "      <th>index</th>\n",
       "      <th>url</th>\n",
       "      <th>label</th>\n",
       "    </tr>\n",
       "  </thead>\n",
       "  <tbody>\n",
       "    <tr>\n",
       "      <th>0</th>\n",
       "      <td>1</td>\n",
       "      <td>http://www.liquidgeneration.com/</td>\n",
       "      <td>Adult</td>\n",
       "    </tr>\n",
       "    <tr>\n",
       "      <th>1</th>\n",
       "      <td>2</td>\n",
       "      <td>http://www.onlineanime.org/</td>\n",
       "      <td>Adult</td>\n",
       "    </tr>\n",
       "    <tr>\n",
       "      <th>2</th>\n",
       "      <td>3</td>\n",
       "      <td>http://www.ceres.dti.ne.jp/~nekoi/senno/senfir...</td>\n",
       "      <td>Adult</td>\n",
       "    </tr>\n",
       "    <tr>\n",
       "      <th>3</th>\n",
       "      <td>4</td>\n",
       "      <td>http://www.galeon.com/kmh/</td>\n",
       "      <td>Adult</td>\n",
       "    </tr>\n",
       "    <tr>\n",
       "      <th>4</th>\n",
       "      <td>5</td>\n",
       "      <td>http://www.fanworkrecs.com/</td>\n",
       "      <td>Adult</td>\n",
       "    </tr>\n",
       "    <tr>\n",
       "      <th>5</th>\n",
       "      <td>6</td>\n",
       "      <td>http://www.animehouse.com/</td>\n",
       "      <td>Adult</td>\n",
       "    </tr>\n",
       "    <tr>\n",
       "      <th>6</th>\n",
       "      <td>7</td>\n",
       "      <td>http://www2.117.ne.jp/~mb1996ax/enadc.html</td>\n",
       "      <td>Adult</td>\n",
       "    </tr>\n",
       "    <tr>\n",
       "      <th>7</th>\n",
       "      <td>8</td>\n",
       "      <td>http://archive.rhps.org/fritters/yui/index.html</td>\n",
       "      <td>Adult</td>\n",
       "    </tr>\n",
       "    <tr>\n",
       "      <th>8</th>\n",
       "      <td>9</td>\n",
       "      <td>http://www.freecartoonsex.com/</td>\n",
       "      <td>Adult</td>\n",
       "    </tr>\n",
       "    <tr>\n",
       "      <th>9</th>\n",
       "      <td>10</td>\n",
       "      <td>http://www.cutepet.org/</td>\n",
       "      <td>Adult</td>\n",
       "    </tr>\n",
       "    <tr>\n",
       "      <th>10</th>\n",
       "      <td>11</td>\n",
       "      <td>http://www.taremeparadise.com/</td>\n",
       "      <td>Adult</td>\n",
       "    </tr>\n",
       "    <tr>\n",
       "      <th>11</th>\n",
       "      <td>12</td>\n",
       "      <td>http://www.internetdump.com/users/pornographit...</td>\n",
       "      <td>Adult</td>\n",
       "    </tr>\n",
       "    <tr>\n",
       "      <th>12</th>\n",
       "      <td>13</td>\n",
       "      <td>http://darkkaminari.net</td>\n",
       "      <td>Adult</td>\n",
       "    </tr>\n",
       "    <tr>\n",
       "      <th>13</th>\n",
       "      <td>14</td>\n",
       "      <td>http://www.iei.net/~bkos1/velneko.htm</td>\n",
       "      <td>Adult</td>\n",
       "    </tr>\n",
       "    <tr>\n",
       "      <th>14</th>\n",
       "      <td>15</td>\n",
       "      <td>http://www9.kinghost.com/fetish/hentaibee/</td>\n",
       "      <td>Adult</td>\n",
       "    </tr>\n",
       "  </tbody>\n",
       "</table>\n",
       "</div>"
      ],
      "text/plain": [
       "    index                                                url  label\n",
       "0       1                   http://www.liquidgeneration.com/  Adult\n",
       "1       2                        http://www.onlineanime.org/  Adult\n",
       "2       3  http://www.ceres.dti.ne.jp/~nekoi/senno/senfir...  Adult\n",
       "3       4                         http://www.galeon.com/kmh/  Adult\n",
       "4       5                        http://www.fanworkrecs.com/  Adult\n",
       "5       6                         http://www.animehouse.com/  Adult\n",
       "6       7         http://www2.117.ne.jp/~mb1996ax/enadc.html  Adult\n",
       "7       8    http://archive.rhps.org/fritters/yui/index.html  Adult\n",
       "8       9                     http://www.freecartoonsex.com/  Adult\n",
       "9      10                            http://www.cutepet.org/  Adult\n",
       "10     11                     http://www.taremeparadise.com/  Adult\n",
       "11     12  http://www.internetdump.com/users/pornographit...  Adult\n",
       "12     13                            http://darkkaminari.net  Adult\n",
       "13     14              http://www.iei.net/~bkos1/velneko.htm  Adult\n",
       "14     15         http://www9.kinghost.com/fetish/hentaibee/  Adult"
      ]
     },
     "execution_count": 4,
     "metadata": {},
     "output_type": "execute_result"
    }
   ],
   "source": [
    "df.head(15)"
   ]
  },
  {
   "cell_type": "markdown",
   "metadata": {
    "pycharm": {
     "name": "#%% md\n"
    }
   },
   "source": [
    "## Labeling"
   ]
  },
  {
   "cell_type": "code",
   "execution_count": 5,
   "metadata": {
    "pycharm": {
     "name": "#%%\n"
    }
   },
   "outputs": [],
   "source": [
    "unique_labels = list(set(df['label']))\n",
    "unique_labels.sort()\n",
    "label2idx = {unique_labels[k] : k for k in range(len(unique_labels))}\n",
    "idx2label = {i: k for k, i in label2idx.items()}\n",
    "\n",
    "df['label'] = df['label'].map(label2idx)"
   ]
  },
  {
   "cell_type": "code",
   "execution_count": 6,
   "metadata": {
    "pycharm": {
     "name": "#%%\n"
    },
    "scrolled": true
   },
   "outputs": [
    {
     "data": {
      "text/plain": [
       "{'Adult': 0,\n",
       " 'Arts': 1,\n",
       " 'Business': 2,\n",
       " 'Computers': 3,\n",
       " 'Games': 4,\n",
       " 'Health': 5,\n",
       " 'Home': 6,\n",
       " 'Kids': 7,\n",
       " 'News': 8,\n",
       " 'Recreation': 9,\n",
       " 'Reference': 10,\n",
       " 'Science': 11,\n",
       " 'Shopping': 12,\n",
       " 'Society': 13,\n",
       " 'Sports': 14}"
      ]
     },
     "execution_count": 6,
     "metadata": {},
     "output_type": "execute_result"
    }
   ],
   "source": [
    "label2idx"
   ]
  },
  {
   "cell_type": "markdown",
   "metadata": {
    "pycharm": {
     "name": "#%% md\n"
    }
   },
   "source": [
    "## Bag of Words"
   ]
  },
  {
   "cell_type": "code",
   "execution_count": 7,
   "metadata": {
    "pycharm": {
     "name": "#%%\n"
    }
   },
   "outputs": [],
   "source": [
    "bow_vectorizer = CountVectorizer(analyzer='char_wb', ngram_range=(5, 5))"
   ]
  },
  {
   "cell_type": "code",
   "execution_count": 8,
   "metadata": {
    "pycharm": {
     "name": "#%%\n"
    }
   },
   "outputs": [
    {
     "data": {
      "text/plain": [
       "((1562978, 2719918), (1562978,))"
      ]
     },
     "execution_count": 8,
     "metadata": {},
     "output_type": "execute_result"
    }
   ],
   "source": [
    "X = bow_vectorizer.fit_transform(df['url'].apply(lambda x: np.str_(x)))\n",
    "y = df['label'].values\n",
    "\n",
    "X, y = shuffle(X, y, random_state=67)\n",
    "\n",
    "X.shape, y.shape"
   ]
  },
  {
   "cell_type": "markdown",
   "metadata": {
    "pycharm": {
     "name": "#%% md\n"
    }
   },
   "source": [
    "## SGDClassifier"
   ]
  },
  {
   "cell_type": "code",
   "execution_count": 9,
   "metadata": {
    "pycharm": {
     "name": "#%%\n"
    }
   },
   "outputs": [],
   "source": [
    "clf = sklearn.linear_model.SGDClassifier(loss='hinge',\n",
    "                                         class_weight='balanced',\n",
    "                                         alpha=1.3945578080387041e-06,\n",
    "                                         max_iter=1000,\n",
    "                                         verbose=0,\n",
    "                                         n_jobs=-1,\n",
    "                                         n_iter_no_change=60,\n",
    "                                         average=32)"
   ]
  },
  {
   "cell_type": "markdown",
   "metadata": {
    "pycharm": {
     "name": "#%% md\n"
    }
   },
   "source": [
    "### Split train/test set to evaluate result"
   ]
  },
  {
   "cell_type": "code",
   "execution_count": 10,
   "metadata": {
    "pycharm": {
     "name": "#%%\n"
    }
   },
   "outputs": [],
   "source": [
    "X_train, X_test, y_train, y_test = train_test_split(X, y, test_size=0.33, random_state=123456)"
   ]
  },
  {
   "cell_type": "code",
   "execution_count": null,
   "metadata": {
    "pycharm": {
     "name": "#%%\n"
    }
   },
   "outputs": [],
   "source": [
    "clf.fit(X_train, y_train)"
   ]
  },
  {
   "cell_type": "code",
   "execution_count": null,
   "metadata": {
    "pycharm": {
     "name": "#%%\n"
    }
   },
   "outputs": [],
   "source": [
    "print(classification_report(y_train, clf.predict(X_train)))"
   ]
  },
  {
   "cell_type": "code",
   "execution_count": null,
   "metadata": {},
   "outputs": [],
   "source": [
    "y_pred = clf.predict(X_test)"
   ]
  },
  {
   "cell_type": "code",
   "execution_count": null,
   "metadata": {
    "pycharm": {
     "name": "#%%\n"
    }
   },
   "outputs": [],
   "source": [
    "print(classification_report(y_test, y_pred))"
   ]
  },
  {
   "cell_type": "code",
   "execution_count": null,
   "metadata": {},
   "outputs": [],
   "source": [
    "cm_true = confusion_matrix(y_test, y_pred, normalize='true', labels=[k for k in idx2label]) \n",
    "cm_pred = confusion_matrix(y_test, y_pred, normalize='pred', labels=[k for k in idx2label])\n",
    "cm_all = confusion_matrix(y_test, y_pred, normalize='all', labels=[k for k in idx2label])\n",
    "cm_none = confusion_matrix(y_test, y_pred, labels=[k for k in idx2label])\n",
    "\n",
    "\n",
    "disp_true = ConfusionMatrixDisplay(confusion_matrix=cm_true, display_labels=unique_labels)\n",
    "disp_pred = ConfusionMatrixDisplay(confusion_matrix=cm_pred, display_labels=unique_labels)\n",
    "disp_all = ConfusionMatrixDisplay(confusion_matrix=cm_all, display_labels=unique_labels)\n",
    "disp_none = ConfusionMatrixDisplay(confusion_matrix=cm_none, display_labels=unique_labels)\n",
    "\n",
    "fig, ax = plt.subplots(figsize=(10, 10))\n",
    "print('normalize true / rows')\n",
    "disp_true.plot(include_values=True, ax=ax)\n",
    "plt.show()\n",
    "\n",
    "fig, bx = plt.subplots(figsize=(10, 10))\n",
    "print('normalize pred / cols')\n",
    "disp_pred.plot(include_values=True, ax=bx)\n",
    "plt.show()\n",
    "\n",
    "fig, cx = plt.subplots(figsize=(10, 10))\n",
    "print('normalize all / cols + rows')\n",
    "disp_all.plot(include_values=True, ax=cx)\n",
    "plt.show()\n",
    "\n",
    "fig, dx = plt.subplots(figsize=(10, 10))\n",
    "print('do not normalize')\n",
    "disp_none.plot(include_values=True, ax=dx)\n",
    "plt.show()"
   ]
  },
  {
   "cell_type": "code",
   "execution_count": null,
   "metadata": {
    "execution": {
     "iopub.execute_input": "2022-05-08T09:08:39.704245Z",
     "iopub.status.busy": "2022-05-08T09:08:39.703783Z",
     "iopub.status.idle": "2022-05-08T09:10:17.161817Z",
     "shell.execute_reply": "2022-05-08T09:10:17.160985Z",
     "shell.execute_reply.started": "2022-05-08T09:08:39.704200Z"
    },
    "pycharm": {
     "name": "#%%\n"
    }
   },
   "outputs": [],
   "source": [
    "cvs = cross_val_score(clf, X, y, cv=3, scoring='f1_macro')\n",
    "print(f'Mean {np.mean(cvs):.5f} \\tVar {np.var(cvs):.5f}')"
   ]
  }
 ],
 "metadata": {
  "kernelspec": {
   "display_name": "Python 3 (ipykernel)",
   "language": "python",
   "name": "python3"
  },
  "language_info": {
   "codemirror_mode": {
    "name": "ipython",
    "version": 3
   },
   "file_extension": ".py",
   "mimetype": "text/x-python",
   "name": "python",
   "nbconvert_exporter": "python",
   "pygments_lexer": "ipython3",
   "version": "3.8.10"
  }
 },
 "nbformat": 4,
 "nbformat_minor": 4
}
