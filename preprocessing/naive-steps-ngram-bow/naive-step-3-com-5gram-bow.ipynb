{
 "cells": [
  {
   "cell_type": "code",
   "execution_count": 1,
   "metadata": {},
   "outputs": [],
   "source": [
    "#import sys\n",
    "#!{sys.executable} -m pip install nltk\n",
    "#!{sys.executable} -m pip install yellowbrick"
   ]
  },
  {
   "cell_type": "code",
   "execution_count": 2,
   "metadata": {
    "pycharm": {
     "name": "#%%\n"
    }
   },
   "outputs": [],
   "source": [
    "import numpy as np  # linear algebra\n",
    "import pandas as pd  # data processing, CSV file I/O (e.g. pd.read_csv)\n",
    "import re\n",
    "\n",
    "import sklearn\n",
    "from sklearn.base import BaseEstimator, ClassifierMixin\n",
    "from sklearn.utils import shuffle\n",
    "from sklearn.model_selection import train_test_split, cross_val_score\n",
    "from sklearn.metrics import f1_score, classification_report, confusion_matrix, ConfusionMatrixDisplay\n",
    "from sklearn.feature_extraction.text import CountVectorizer, TfidfVectorizer\n",
    "from sklearn.pipeline import Pipeline\n",
    "from sklearn.linear_model import LogisticRegression\n",
    "from sklearn.naive_bayes import MultinomialNB\n",
    "\n",
    "# scipy sparse matrix\n",
    "import scipy\n",
    "from scipy.sparse import hstack\n",
    "\n",
    "import matplotlib.pyplot as plt\n",
    "\n",
    "from string import digits\n",
    "\n",
    "import os"
   ]
  },
  {
   "cell_type": "markdown",
   "metadata": {
    "pycharm": {
     "name": "#%% md\n"
    }
   },
   "source": [
    "## Data Preprocessing"
   ]
  },
  {
   "cell_type": "code",
   "execution_count": 3,
   "metadata": {
    "pycharm": {
     "name": "#%%\n"
    }
   },
   "outputs": [],
   "source": [
    "def cleanup_URL(s):\n",
    "    s = s if s else ''\n",
    "\n",
    "    try:\n",
    "        tokens = filter(lambda x: x != '', re.split(r'\\W', s))    \n",
    "        \n",
    "        # remove common substrings\n",
    "        tokens = filter(lambda x: x != 'http' , tokens)\n",
    "        tokens = filter(lambda x: x != 'www' , tokens)\n",
    "        \n",
    "        tokens = filter(lambda x: x != 'com' , tokens)\n",
    "        \n",
    "        # tokens = filter(lambda x: x != 'index' , tokens)\n",
    "        # tokens = filter(lambda x: x != 'html' , tokens)\n",
    "        # tokens = filter(lambda x: x != 'htm' , tokens)\n",
    "        \n",
    "        # tokens = filter(lambda x: x != 'co' , tokens)\n",
    "        # tokens = filter(lambda x: x != 'uk' , tokens)\n",
    "        # tokens = filter(lambda x: x != 'org' , tokens)\n",
    "        # tokens = filter(lambda x: x != 'net' , tokens)\n",
    "        \n",
    "        # remove digits\n",
    "        # tokens = map(lambda x: re.sub(r'[0-9]+', '', x), tokens)\n",
    "        \n",
    "        tokens = list(tokens)\n",
    "\n",
    "    except Exception as e:\n",
    "        tokens = []\n",
    "\n",
    "    return ''.join(tokens)\n",
    "\n",
    "\n",
    "def parse_dataset(df):\n",
    "    df['path'] = list(map(cleanup_URL, df['url']))\n",
    "\n",
    "    return df"
   ]
  },
  {
   "cell_type": "code",
   "execution_count": 4,
   "metadata": {
    "pycharm": {
     "name": "#%%\n"
    }
   },
   "outputs": [],
   "source": [
    "df = pd.read_csv('../../URL_Classification.csv', header=None)\n",
    "df.columns = [\"index\", \"url\", \"label\"]\n",
    "\n",
    "num_samples = len(df)\n",
    "df = df[0:num_samples]"
   ]
  },
  {
   "cell_type": "code",
   "execution_count": 5,
   "metadata": {
    "pycharm": {
     "name": "#%%\n"
    }
   },
   "outputs": [
    {
     "name": "stdout",
     "output_type": "stream",
     "text": [
      "Parsing 1562978 rows dataset...\n",
      "Done\n"
     ]
    }
   ],
   "source": [
    "print(f\"Parsing {len(df)} rows dataset...\")\n",
    "df = parse_dataset(df)\n",
    "\n",
    "print(\"Done\")"
   ]
  },
  {
   "cell_type": "code",
   "execution_count": 6,
   "metadata": {
    "pycharm": {
     "name": "#%%\n"
    },
    "scrolled": true
   },
   "outputs": [
    {
     "data": {
      "text/html": [
       "<div>\n",
       "<style scoped>\n",
       "    .dataframe tbody tr th:only-of-type {\n",
       "        vertical-align: middle;\n",
       "    }\n",
       "\n",
       "    .dataframe tbody tr th {\n",
       "        vertical-align: top;\n",
       "    }\n",
       "\n",
       "    .dataframe thead th {\n",
       "        text-align: right;\n",
       "    }\n",
       "</style>\n",
       "<table border=\"1\" class=\"dataframe\">\n",
       "  <thead>\n",
       "    <tr style=\"text-align: right;\">\n",
       "      <th></th>\n",
       "      <th>index</th>\n",
       "      <th>url</th>\n",
       "      <th>label</th>\n",
       "      <th>path</th>\n",
       "    </tr>\n",
       "  </thead>\n",
       "  <tbody>\n",
       "    <tr>\n",
       "      <th>0</th>\n",
       "      <td>1</td>\n",
       "      <td>http://www.liquidgeneration.com/</td>\n",
       "      <td>Adult</td>\n",
       "      <td>liquidgeneration</td>\n",
       "    </tr>\n",
       "    <tr>\n",
       "      <th>1</th>\n",
       "      <td>2</td>\n",
       "      <td>http://www.onlineanime.org/</td>\n",
       "      <td>Adult</td>\n",
       "      <td>onlineanimeorg</td>\n",
       "    </tr>\n",
       "    <tr>\n",
       "      <th>2</th>\n",
       "      <td>3</td>\n",
       "      <td>http://www.ceres.dti.ne.jp/~nekoi/senno/senfir...</td>\n",
       "      <td>Adult</td>\n",
       "      <td>ceresdtinejpnekoisennosenfirsthtml</td>\n",
       "    </tr>\n",
       "    <tr>\n",
       "      <th>3</th>\n",
       "      <td>4</td>\n",
       "      <td>http://www.galeon.com/kmh/</td>\n",
       "      <td>Adult</td>\n",
       "      <td>galeonkmh</td>\n",
       "    </tr>\n",
       "    <tr>\n",
       "      <th>4</th>\n",
       "      <td>5</td>\n",
       "      <td>http://www.fanworkrecs.com/</td>\n",
       "      <td>Adult</td>\n",
       "      <td>fanworkrecs</td>\n",
       "    </tr>\n",
       "    <tr>\n",
       "      <th>5</th>\n",
       "      <td>6</td>\n",
       "      <td>http://www.animehouse.com/</td>\n",
       "      <td>Adult</td>\n",
       "      <td>animehouse</td>\n",
       "    </tr>\n",
       "    <tr>\n",
       "      <th>6</th>\n",
       "      <td>7</td>\n",
       "      <td>http://www2.117.ne.jp/~mb1996ax/enadc.html</td>\n",
       "      <td>Adult</td>\n",
       "      <td>www2117nejpmb1996axenadchtml</td>\n",
       "    </tr>\n",
       "    <tr>\n",
       "      <th>7</th>\n",
       "      <td>8</td>\n",
       "      <td>http://archive.rhps.org/fritters/yui/index.html</td>\n",
       "      <td>Adult</td>\n",
       "      <td>archiverhpsorgfrittersyuiindexhtml</td>\n",
       "    </tr>\n",
       "    <tr>\n",
       "      <th>8</th>\n",
       "      <td>9</td>\n",
       "      <td>http://www.freecartoonsex.com/</td>\n",
       "      <td>Adult</td>\n",
       "      <td>freecartoonsex</td>\n",
       "    </tr>\n",
       "    <tr>\n",
       "      <th>9</th>\n",
       "      <td>10</td>\n",
       "      <td>http://www.cutepet.org/</td>\n",
       "      <td>Adult</td>\n",
       "      <td>cutepetorg</td>\n",
       "    </tr>\n",
       "    <tr>\n",
       "      <th>10</th>\n",
       "      <td>11</td>\n",
       "      <td>http://www.taremeparadise.com/</td>\n",
       "      <td>Adult</td>\n",
       "      <td>taremeparadise</td>\n",
       "    </tr>\n",
       "    <tr>\n",
       "      <th>11</th>\n",
       "      <td>12</td>\n",
       "      <td>http://www.internetdump.com/users/pornographit...</td>\n",
       "      <td>Adult</td>\n",
       "      <td>internetdumpuserspornographiteindex1html</td>\n",
       "    </tr>\n",
       "    <tr>\n",
       "      <th>12</th>\n",
       "      <td>13</td>\n",
       "      <td>http://darkkaminari.net</td>\n",
       "      <td>Adult</td>\n",
       "      <td>darkkaminarinet</td>\n",
       "    </tr>\n",
       "    <tr>\n",
       "      <th>13</th>\n",
       "      <td>14</td>\n",
       "      <td>http://www.iei.net/~bkos1/velneko.htm</td>\n",
       "      <td>Adult</td>\n",
       "      <td>ieinetbkos1velnekohtm</td>\n",
       "    </tr>\n",
       "    <tr>\n",
       "      <th>14</th>\n",
       "      <td>15</td>\n",
       "      <td>http://www9.kinghost.com/fetish/hentaibee/</td>\n",
       "      <td>Adult</td>\n",
       "      <td>www9kinghostfetishhentaibee</td>\n",
       "    </tr>\n",
       "  </tbody>\n",
       "</table>\n",
       "</div>"
      ],
      "text/plain": [
       "    index                                                url  label  \\\n",
       "0       1                   http://www.liquidgeneration.com/  Adult   \n",
       "1       2                        http://www.onlineanime.org/  Adult   \n",
       "2       3  http://www.ceres.dti.ne.jp/~nekoi/senno/senfir...  Adult   \n",
       "3       4                         http://www.galeon.com/kmh/  Adult   \n",
       "4       5                        http://www.fanworkrecs.com/  Adult   \n",
       "5       6                         http://www.animehouse.com/  Adult   \n",
       "6       7         http://www2.117.ne.jp/~mb1996ax/enadc.html  Adult   \n",
       "7       8    http://archive.rhps.org/fritters/yui/index.html  Adult   \n",
       "8       9                     http://www.freecartoonsex.com/  Adult   \n",
       "9      10                            http://www.cutepet.org/  Adult   \n",
       "10     11                     http://www.taremeparadise.com/  Adult   \n",
       "11     12  http://www.internetdump.com/users/pornographit...  Adult   \n",
       "12     13                            http://darkkaminari.net  Adult   \n",
       "13     14              http://www.iei.net/~bkos1/velneko.htm  Adult   \n",
       "14     15         http://www9.kinghost.com/fetish/hentaibee/  Adult   \n",
       "\n",
       "                                        path  \n",
       "0                           liquidgeneration  \n",
       "1                             onlineanimeorg  \n",
       "2         ceresdtinejpnekoisennosenfirsthtml  \n",
       "3                                  galeonkmh  \n",
       "4                                fanworkrecs  \n",
       "5                                 animehouse  \n",
       "6               www2117nejpmb1996axenadchtml  \n",
       "7         archiverhpsorgfrittersyuiindexhtml  \n",
       "8                             freecartoonsex  \n",
       "9                                 cutepetorg  \n",
       "10                            taremeparadise  \n",
       "11  internetdumpuserspornographiteindex1html  \n",
       "12                           darkkaminarinet  \n",
       "13                     ieinetbkos1velnekohtm  \n",
       "14               www9kinghostfetishhentaibee  "
      ]
     },
     "execution_count": 6,
     "metadata": {},
     "output_type": "execute_result"
    }
   ],
   "source": [
    "df.head(15)"
   ]
  },
  {
   "cell_type": "markdown",
   "metadata": {
    "pycharm": {
     "name": "#%% md\n"
    }
   },
   "source": [
    "## Labeling"
   ]
  },
  {
   "cell_type": "code",
   "execution_count": 7,
   "metadata": {
    "pycharm": {
     "name": "#%%\n"
    }
   },
   "outputs": [],
   "source": [
    "unique_labels = list(set(df['label']))\n",
    "unique_labels.sort()\n",
    "\n",
    "label2idx = {unique_labels[k] : k for k in range(len(unique_labels))}\n",
    "idx2label = {i: k for k, i in label2idx.items()}\n",
    "\n",
    "df['label'] = df['label'].map(label2idx)"
   ]
  },
  {
   "cell_type": "code",
   "execution_count": 8,
   "metadata": {
    "pycharm": {
     "name": "#%%\n"
    },
    "scrolled": true
   },
   "outputs": [
    {
     "data": {
      "text/plain": [
       "{'Adult': 0,\n",
       " 'Arts': 1,\n",
       " 'Business': 2,\n",
       " 'Computers': 3,\n",
       " 'Games': 4,\n",
       " 'Health': 5,\n",
       " 'Home': 6,\n",
       " 'Kids': 7,\n",
       " 'News': 8,\n",
       " 'Recreation': 9,\n",
       " 'Reference': 10,\n",
       " 'Science': 11,\n",
       " 'Shopping': 12,\n",
       " 'Society': 13,\n",
       " 'Sports': 14}"
      ]
     },
     "execution_count": 8,
     "metadata": {},
     "output_type": "execute_result"
    }
   ],
   "source": [
    "label2idx"
   ]
  },
  {
   "cell_type": "markdown",
   "metadata": {
    "pycharm": {
     "name": "#%% md\n"
    }
   },
   "source": [
    "## Bag of Words"
   ]
  },
  {
   "cell_type": "code",
   "execution_count": 9,
   "metadata": {
    "pycharm": {
     "name": "#%%\n"
    }
   },
   "outputs": [],
   "source": [
    "bow_vectorizer = CountVectorizer(analyzer='char_wb', ngram_range=(5, 5))"
   ]
  },
  {
   "cell_type": "code",
   "execution_count": 10,
   "metadata": {
    "pycharm": {
     "name": "#%%\n"
    }
   },
   "outputs": [
    {
     "data": {
      "text/plain": [
       "((1562978, 2462445), (1562978,))"
      ]
     },
     "execution_count": 10,
     "metadata": {},
     "output_type": "execute_result"
    }
   ],
   "source": [
    "X = bow_vectorizer.fit_transform(df['path'])\n",
    "y = df['label'].values\n",
    "\n",
    "X, y = shuffle(X, y, random_state=67)\n",
    "\n",
    "X.shape, y.shape"
   ]
  },
  {
   "cell_type": "markdown",
   "metadata": {
    "pycharm": {
     "name": "#%% md\n"
    }
   },
   "source": [
    "## Naive Bayes"
   ]
  },
  {
   "cell_type": "code",
   "execution_count": 11,
   "metadata": {
    "pycharm": {
     "name": "#%%\n"
    }
   },
   "outputs": [],
   "source": [
    "clf = sklearn.naive_bayes.MultinomialNB()"
   ]
  },
  {
   "cell_type": "markdown",
   "metadata": {
    "pycharm": {
     "name": "#%% md\n"
    }
   },
   "source": [
    "### Split train/test set to evaluate result"
   ]
  },
  {
   "cell_type": "code",
   "execution_count": 12,
   "metadata": {
    "pycharm": {
     "name": "#%%\n"
    }
   },
   "outputs": [],
   "source": [
    "X_train, X_test, y_train, y_test = train_test_split(X, y, test_size=0.33, random_state=123456)"
   ]
  },
  {
   "cell_type": "code",
   "execution_count": 13,
   "metadata": {
    "pycharm": {
     "name": "#%%\n"
    }
   },
   "outputs": [
    {
     "data": {
      "text/html": [
       "<style>#sk-container-id-1 {color: black;background-color: white;}#sk-container-id-1 pre{padding: 0;}#sk-container-id-1 div.sk-toggleable {background-color: white;}#sk-container-id-1 label.sk-toggleable__label {cursor: pointer;display: block;width: 100%;margin-bottom: 0;padding: 0.3em;box-sizing: border-box;text-align: center;}#sk-container-id-1 label.sk-toggleable__label-arrow:before {content: \"▸\";float: left;margin-right: 0.25em;color: #696969;}#sk-container-id-1 label.sk-toggleable__label-arrow:hover:before {color: black;}#sk-container-id-1 div.sk-estimator:hover label.sk-toggleable__label-arrow:before {color: black;}#sk-container-id-1 div.sk-toggleable__content {max-height: 0;max-width: 0;overflow: hidden;text-align: left;background-color: #f0f8ff;}#sk-container-id-1 div.sk-toggleable__content pre {margin: 0.2em;color: black;border-radius: 0.25em;background-color: #f0f8ff;}#sk-container-id-1 input.sk-toggleable__control:checked~div.sk-toggleable__content {max-height: 200px;max-width: 100%;overflow: auto;}#sk-container-id-1 input.sk-toggleable__control:checked~label.sk-toggleable__label-arrow:before {content: \"▾\";}#sk-container-id-1 div.sk-estimator input.sk-toggleable__control:checked~label.sk-toggleable__label {background-color: #d4ebff;}#sk-container-id-1 div.sk-label input.sk-toggleable__control:checked~label.sk-toggleable__label {background-color: #d4ebff;}#sk-container-id-1 input.sk-hidden--visually {border: 0;clip: rect(1px 1px 1px 1px);clip: rect(1px, 1px, 1px, 1px);height: 1px;margin: -1px;overflow: hidden;padding: 0;position: absolute;width: 1px;}#sk-container-id-1 div.sk-estimator {font-family: monospace;background-color: #f0f8ff;border: 1px dotted black;border-radius: 0.25em;box-sizing: border-box;margin-bottom: 0.5em;}#sk-container-id-1 div.sk-estimator:hover {background-color: #d4ebff;}#sk-container-id-1 div.sk-parallel-item::after {content: \"\";width: 100%;border-bottom: 1px solid gray;flex-grow: 1;}#sk-container-id-1 div.sk-label:hover label.sk-toggleable__label {background-color: #d4ebff;}#sk-container-id-1 div.sk-serial::before {content: \"\";position: absolute;border-left: 1px solid gray;box-sizing: border-box;top: 0;bottom: 0;left: 50%;z-index: 0;}#sk-container-id-1 div.sk-serial {display: flex;flex-direction: column;align-items: center;background-color: white;padding-right: 0.2em;padding-left: 0.2em;position: relative;}#sk-container-id-1 div.sk-item {position: relative;z-index: 1;}#sk-container-id-1 div.sk-parallel {display: flex;align-items: stretch;justify-content: center;background-color: white;position: relative;}#sk-container-id-1 div.sk-item::before, #sk-container-id-1 div.sk-parallel-item::before {content: \"\";position: absolute;border-left: 1px solid gray;box-sizing: border-box;top: 0;bottom: 0;left: 50%;z-index: -1;}#sk-container-id-1 div.sk-parallel-item {display: flex;flex-direction: column;z-index: 1;position: relative;background-color: white;}#sk-container-id-1 div.sk-parallel-item:first-child::after {align-self: flex-end;width: 50%;}#sk-container-id-1 div.sk-parallel-item:last-child::after {align-self: flex-start;width: 50%;}#sk-container-id-1 div.sk-parallel-item:only-child::after {width: 0;}#sk-container-id-1 div.sk-dashed-wrapped {border: 1px dashed gray;margin: 0 0.4em 0.5em 0.4em;box-sizing: border-box;padding-bottom: 0.4em;background-color: white;}#sk-container-id-1 div.sk-label label {font-family: monospace;font-weight: bold;display: inline-block;line-height: 1.2em;}#sk-container-id-1 div.sk-label-container {text-align: center;}#sk-container-id-1 div.sk-container {/* jupyter's `normalize.less` sets `[hidden] { display: none; }` but bootstrap.min.css set `[hidden] { display: none !important; }` so we also need the `!important` here to be able to override the default hidden behavior on the sphinx rendered scikit-learn.org. See: https://github.com/scikit-learn/scikit-learn/issues/21755 */display: inline-block !important;position: relative;}#sk-container-id-1 div.sk-text-repr-fallback {display: none;}</style><div id=\"sk-container-id-1\" class=\"sk-top-container\"><div class=\"sk-text-repr-fallback\"><pre>MultinomialNB()</pre><b>In a Jupyter environment, please rerun this cell to show the HTML representation or trust the notebook. <br />On GitHub, the HTML representation is unable to render, please try loading this page with nbviewer.org.</b></div><div class=\"sk-container\" hidden><div class=\"sk-item\"><div class=\"sk-estimator sk-toggleable\"><input class=\"sk-toggleable__control sk-hidden--visually\" id=\"sk-estimator-id-1\" type=\"checkbox\" checked><label for=\"sk-estimator-id-1\" class=\"sk-toggleable__label sk-toggleable__label-arrow\">MultinomialNB</label><div class=\"sk-toggleable__content\"><pre>MultinomialNB()</pre></div></div></div></div></div>"
      ],
      "text/plain": [
       "MultinomialNB()"
      ]
     },
     "execution_count": 13,
     "metadata": {},
     "output_type": "execute_result"
    }
   ],
   "source": [
    "clf.fit(X_train, y_train)"
   ]
  },
  {
   "cell_type": "code",
   "execution_count": 14,
   "metadata": {
    "pycharm": {
     "name": "#%%\n"
    }
   },
   "outputs": [
    {
     "name": "stdout",
     "output_type": "stream",
     "text": [
      "              precision    recall  f1-score   support\n",
      "\n",
      "           0       0.93      0.67      0.78     23791\n",
      "           1       0.66      0.81      0.73    169876\n",
      "           2       0.62      0.83      0.71    160883\n",
      "           3       0.78      0.62      0.69     79000\n",
      "           4       0.79      0.66      0.72     37835\n",
      "           5       0.84      0.57      0.68     40307\n",
      "           6       0.91      0.52      0.66     19006\n",
      "           7       0.85      0.41      0.55     30834\n",
      "           8       0.88      0.14      0.24      6062\n",
      "           9       0.72      0.67      0.69     71415\n",
      "          10       0.72      0.59      0.65     38852\n",
      "          11       0.74      0.67      0.70     73731\n",
      "          12       0.73      0.50      0.59     63984\n",
      "          13       0.69      0.79      0.73    163561\n",
      "          14       0.82      0.73      0.77     68058\n",
      "\n",
      "    accuracy                           0.71   1047195\n",
      "   macro avg       0.78      0.61      0.66   1047195\n",
      "weighted avg       0.72      0.71      0.70   1047195\n",
      "\n"
     ]
    }
   ],
   "source": [
    "print(classification_report(y_train, clf.predict(X_train)))"
   ]
  },
  {
   "cell_type": "code",
   "execution_count": 15,
   "metadata": {},
   "outputs": [],
   "source": [
    "y_pred = clf.predict(X_test)"
   ]
  },
  {
   "cell_type": "code",
   "execution_count": 16,
   "metadata": {
    "pycharm": {
     "name": "#%%\n"
    }
   },
   "outputs": [
    {
     "name": "stdout",
     "output_type": "stream",
     "text": [
      "              precision    recall  f1-score   support\n",
      "\n",
      "           0       0.83      0.55      0.66     11534\n",
      "           1       0.55      0.69      0.61     83964\n",
      "           2       0.49      0.70      0.57     79294\n",
      "           3       0.60      0.44      0.51     38962\n",
      "           4       0.71      0.56      0.62     18642\n",
      "           5       0.71      0.43      0.53     19790\n",
      "           6       0.83      0.44      0.57      9263\n",
      "           7       0.61      0.25      0.36     15348\n",
      "           8       0.65      0.08      0.14      2927\n",
      "           9       0.51      0.46      0.48     35171\n",
      "          10       0.58      0.47      0.52     19395\n",
      "          11       0.60      0.54      0.57     36555\n",
      "          12       0.46      0.31      0.37     31286\n",
      "          13       0.57      0.66      0.61     80382\n",
      "          14       0.72      0.62      0.66     33270\n",
      "\n",
      "    accuracy                           0.57    515783\n",
      "   macro avg       0.63      0.48      0.52    515783\n",
      "weighted avg       0.58      0.57      0.56    515783\n",
      "\n"
     ]
    }
   ],
   "source": [
    "print(classification_report(y_test, y_pred))"
   ]
  },
  {
   "cell_type": "code",
   "execution_count": null,
   "metadata": {},
   "outputs": [],
   "source": [
    "cm_true = confusion_matrix(y_test, y_pred, normalize='true', labels=[k for k in idx2label]) \n",
    "cm_pred = confusion_matrix(y_test, y_pred, normalize='pred', labels=[k for k in idx2label])\n",
    "cm_all = confusion_matrix(y_test, y_pred, normalize='all', labels=[k for k in idx2label])\n",
    "cm_none = confusion_matrix(y_test, y_pred, labels=[k for k in idx2label])\n",
    "\n",
    "\n",
    "disp_true = ConfusionMatrixDisplay(confusion_matrix=cm_true, display_labels=unique_labels)\n",
    "disp_pred = ConfusionMatrixDisplay(confusion_matrix=cm_pred, display_labels=unique_labels)\n",
    "disp_all = ConfusionMatrixDisplay(confusion_matrix=cm_all, display_labels=unique_labels)\n",
    "disp_none = ConfusionMatrixDisplay(confusion_matrix=cm_none, display_labels=unique_labels)\n",
    "\n",
    "fig, ax = plt.subplots(figsize=(10, 10))\n",
    "print('normalize true / rows')\n",
    "disp_true.plot(include_values=True, ax=ax)\n",
    "plt.show()\n",
    "\n",
    "fig, bx = plt.subplots(figsize=(10, 10))\n",
    "print('normalize pred / cols')\n",
    "disp_pred.plot(include_values=True, ax=bx)\n",
    "plt.show()\n",
    "\n",
    "fig, cx = plt.subplots(figsize=(10, 10))\n",
    "print('normalize all / cols + rows')\n",
    "disp_all.plot(include_values=True, ax=cx)\n",
    "plt.show()\n",
    "\n",
    "fig, dx = plt.subplots(figsize=(10, 10))\n",
    "print('do not normalize')\n",
    "disp_none.plot(include_values=True, ax=dx)\n",
    "plt.show()"
   ]
  },
  {
   "cell_type": "code",
   "execution_count": 18,
   "metadata": {
    "pycharm": {
     "name": "#%%\n"
    },
    "tags": []
   },
   "outputs": [
    {
     "name": "stdout",
     "output_type": "stream",
     "text": [
      "Mean 0.51961 \tVar 0.00000\n"
     ]
    }
   ],
   "source": [
    "cvs = cross_val_score(clf, X, y, cv=3, scoring='f1_macro')\n",
    "print(f'Mean {np.mean(cvs):.5f} \\tVar {np.var(cvs):.5f}')"
   ]
  }
 ],
 "metadata": {
  "kernelspec": {
   "display_name": "Python 3 (ipykernel)",
   "language": "python",
   "name": "python3"
  },
  "language_info": {
   "codemirror_mode": {
    "name": "ipython",
    "version": 3
   },
   "file_extension": ".py",
   "mimetype": "text/x-python",
   "name": "python",
   "nbconvert_exporter": "python",
   "pygments_lexer": "ipython3",
   "version": "3.8.10"
  }
 },
 "nbformat": 4,
 "nbformat_minor": 4
}
